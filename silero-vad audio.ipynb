{
 "cells": [
  {
   "cell_type": "code",
   "execution_count": 2,
   "id": "8521b31e",
   "metadata": {},
   "outputs": [
    {
     "name": "stdout",
     "output_type": "stream",
     "text": [
      "ok\n"
     ]
    }
   ],
   "source": [
    "SAMPLING_RATE = 6000\n",
    "\n",
    "import torch\n",
    "torch.set_num_threads(1)\n",
    "\n",
    "from IPython.display import Audio\n",
    "from pprint import pprint\n",
    "# download example\n",
    "#torch.hub.download_url_to_file('https://models.silero.ai/vad_models/en.wav', 'en_example.wav')\n",
    "print('ok')"
   ]
  },
  {
   "cell_type": "code",
   "execution_count": 4,
   "id": "69702aae",
   "metadata": {},
   "outputs": [
    {
     "name": "stderr",
     "output_type": "stream",
     "text": [
      "Downloading: \"https://github.com/snakers4/silero-vad/zipball/master\" to /home/vishnu/.cache/torch/hub/master.zip\n"
     ]
    },
    {
     "data": {
      "application/vnd.jupyter.widget-view+json": {
       "model_id": "967d5675b403497caef522514eafe04f",
       "version_major": 2,
       "version_minor": 0
      },
      "text/plain": [
       "  0%|          | 0.00/12.8M [00:00<?, ?B/s]"
      ]
     },
     "metadata": {},
     "output_type": "display_data"
    },
    {
     "ename": "ValueError",
     "evalue": "too many values to unpack (expected 2)",
     "output_type": "error",
     "traceback": [
      "\u001b[0;31m---------------------------------------------------------------------------\u001b[0m",
      "\u001b[0;31mValueError\u001b[0m                                Traceback (most recent call last)",
      "\u001b[0;32m<ipython-input-4-d1cac7648cb8>\u001b[0m in \u001b[0;36m<module>\u001b[0;34m\u001b[0m\n\u001b[1;32m      3\u001b[0m     \u001b[0mget_ipython\u001b[0m\u001b[0;34m(\u001b[0m\u001b[0;34m)\u001b[0m\u001b[0;34m.\u001b[0m\u001b[0msystem\u001b[0m\u001b[0;34m(\u001b[0m\u001b[0;34m'pip install -q onnxruntime'\u001b[0m\u001b[0;34m)\u001b[0m\u001b[0;34m\u001b[0m\u001b[0;34m\u001b[0m\u001b[0m\n\u001b[1;32m      4\u001b[0m \u001b[0;34m\u001b[0m\u001b[0m\n\u001b[0;32m----> 5\u001b[0;31m model, utils = torch.hub.load(repo_or_dir='snakers4/silero-vad',\n\u001b[0m\u001b[1;32m      6\u001b[0m                               \u001b[0mmodel\u001b[0m\u001b[0;34m=\u001b[0m\u001b[0;34m'silero_lang_detector_95'\u001b[0m\u001b[0;34m,\u001b[0m\u001b[0;34m\u001b[0m\u001b[0;34m\u001b[0m\u001b[0m\n\u001b[1;32m      7\u001b[0m                               \u001b[0mforce_reload\u001b[0m\u001b[0;34m=\u001b[0m\u001b[0;32mTrue\u001b[0m\u001b[0;34m,\u001b[0m\u001b[0;34m\u001b[0m\u001b[0;34m\u001b[0m\u001b[0m\n",
      "\u001b[0;31mValueError\u001b[0m: too many values to unpack (expected 2)"
     ]
    }
   ],
   "source": [
    "USE_ONNX = False # change this to True if you want to test onnx model\n",
    "if USE_ONNX:\n",
    "    !pip install -q onnxruntime\n",
    "  \n",
    "model, utils = torch.hub.load(repo_or_dir='snakers4/silero-vad',\n",
    "                              model='silero_lang_detector_95',\n",
    "                              force_reload=True,\n",
    "                              onnx=USE_ONNX)\n",
    "\n",
    "get_language, read_audio = utils\n",
    "print(get_language, read_audio)\n",
    "print(model)"
   ]
  },
  {
   "cell_type": "code",
   "execution_count": 29,
   "id": "3a9e431b",
   "metadata": {},
   "outputs": [],
   "source": [
    "SAMPLING_RATE = 100"
   ]
  },
  {
   "cell_type": "code",
   "execution_count": 20,
   "id": "c3280ef6",
   "metadata": {},
   "outputs": [
    {
     "name": "stdout",
     "output_type": "stream",
     "text": [
      "en\n"
     ]
    }
   ],
   "source": [
    "#english\n",
    "wav = read_audio('en_example.wav', sampling_rate=SAMPLING_RATE)\n",
    "lang = get_language(wav, model)\n",
    "print(lang)"
   ]
  },
  {
   "cell_type": "code",
   "execution_count": 27,
   "id": "e9bd8e50",
   "metadata": {},
   "outputs": [
    {
     "name": "stdout",
     "output_type": "stream",
     "text": [
      "en\n"
     ]
    }
   ],
   "source": [
    "#hindi\n",
    "wav = read_audio('/home/vishnu/Downloads/Hindi_F_Deepika.mp3', sampling_rate=SAMPLING_RATE)\n",
    "lang = get_language(wav, model)\n",
    "print(lang)"
   ]
  },
  {
   "cell_type": "code",
   "execution_count": 6,
   "id": "dd81b85e",
   "metadata": {},
   "outputs": [
    {
     "name": "stdout",
     "output_type": "stream",
     "text": [
      "es\n"
     ]
    }
   ],
   "source": [
    "#spanish\n",
    "wav = read_audio('/home/vishnu/Downloads/days-of-week.mp3', sampling_rate=SAMPLING_RATE)\n",
    "lang = get_language(wav, model)\n",
    "print(lang)"
   ]
  },
  {
   "cell_type": "code",
   "execution_count": 30,
   "id": "d168e69d",
   "metadata": {},
   "outputs": [
    {
     "name": "stdout",
     "output_type": "stream",
     "text": [
      "es\n"
     ]
    }
   ],
   "source": [
    "#french\n",
    "wav = read_audio('/home/vishnu/Downloads/frenchsampleexam_0.mp3', sampling_rate=SAMPLING_RATE)\n",
    "lang = get_language(wav, model)\n",
    "print(lang)"
   ]
  },
  {
   "cell_type": "code",
   "execution_count": 11,
   "id": "a68f61ce",
   "metadata": {},
   "outputs": [
    {
     "name": "stdout",
     "output_type": "stream",
     "text": [
      "ru\n"
     ]
    }
   ],
   "source": [
    "#french\n",
    "wav = read_audio('/home/vishnu/Downloads/french.mp3', sampling_rate=SAMPLING_RATE)\n",
    "lang = get_language(wav, model)\n",
    "print(lang)"
   ]
  },
  {
   "cell_type": "code",
   "execution_count": 12,
   "id": "4a4bd71c",
   "metadata": {},
   "outputs": [
    {
     "name": "stdout",
     "output_type": "stream",
     "text": [
      "de\n"
     ]
    }
   ],
   "source": [
    "#german\n",
    "wav = read_audio('/home/vishnu/Downloads/clothes-german.mp3', sampling_rate=SAMPLING_RATE)\n",
    "lang = get_language(wav, model)\n",
    "print(lang)"
   ]
  },
  {
   "cell_type": "code",
   "execution_count": 14,
   "id": "5d9a4a3e",
   "metadata": {},
   "outputs": [
    {
     "name": "stdout",
     "output_type": "stream",
     "text": [
      "ru\n"
     ]
    }
   ],
   "source": [
    "#russian\n",
    "wav = read_audio('/home/vishnu/Downloads/russian.mp3', sampling_rate=SAMPLING_RATE)\n",
    "lang = get_language(wav, model)\n",
    "print(lang)"
   ]
  },
  {
   "cell_type": "code",
   "execution_count": 17,
   "id": "8cd4023e",
   "metadata": {},
   "outputs": [
    {
     "name": "stdout",
     "output_type": "stream",
     "text": [
      "en\n"
     ]
    }
   ],
   "source": [
    "#chinese\n",
    "wav = read_audio('/home/vishnu/Downloads/ap-chinese-sect-1-part-a-sel-1-effective-2019.mp3', sampling_rate=SAMPLING_RATE)\n",
    "lang = get_language(wav, model)\n",
    "print(lang)"
   ]
  },
  {
   "cell_type": "code",
   "execution_count": 18,
   "id": "5d68faac",
   "metadata": {},
   "outputs": [
    {
     "name": "stdout",
     "output_type": "stream",
     "text": [
      "es\n"
     ]
    }
   ],
   "source": [
    "#japanese\n",
    "wav = read_audio('/home/vishnu/Downloads/japanese.mp3', sampling_rate=SAMPLING_RATE)\n",
    "lang = get_language(wav, model)\n",
    "print(lang)"
   ]
  },
  {
   "cell_type": "code",
   "execution_count": 20,
   "id": "278ef7cf",
   "metadata": {},
   "outputs": [
    {
     "name": "stdout",
     "output_type": "stream",
     "text": [
      "es\n"
     ]
    }
   ],
   "source": [
    "#italian\n",
    "wav = read_audio('/home/vishnu/Downloads/italian.mp3', sampling_rate=SAMPLING_RATE)\n",
    "lang = get_language(wav, model)\n",
    "print(lang)"
   ]
  },
  {
   "cell_type": "code",
   "execution_count": 21,
   "id": "06f8e255",
   "metadata": {},
   "outputs": [
    {
     "name": "stdout",
     "output_type": "stream",
     "text": [
      "es\n"
     ]
    }
   ],
   "source": [
    "#PORTUGUESE\n",
    "wav = read_audio('/home/vishnu/Downloads/PORTUGUESE.mp3', sampling_rate=SAMPLING_RATE)\n",
    "lang = get_language(wav, model)\n",
    "print(lang)"
   ]
  },
  {
   "cell_type": "code",
   "execution_count": 33,
   "id": "115ee36e",
   "metadata": {},
   "outputs": [],
   "source": [
    "dependencies = ['torch', 'torchaudio']\n",
    "import torch\n",
    "import json\n",
    "from utils_vad import (init_jit_model,\n",
    "                       get_speech_timestamps,\n",
    "                       get_number_ts,\n",
    "                       get_language,\n",
    "                       get_language_and_group,\n",
    "                       save_audio,\n",
    "                       read_audio,\n",
    "                       VADIterator,\n",
    "                       collect_chunks,\n",
    "                       drop_chunks,\n",
    "                       Validator,\n",
    "                       OnnxWrapper)\n",
    "\n",
    "def silero_lang_detector_95(onnx=False):\n",
    "    \"\"\"Silero Language Classifier (95 languages)\n",
    "    Returns a model with a set of utils\n",
    "    Please see https://github.com/snakers4/silero-vad for usage examples\n",
    "    \"\"\"\n",
    "\n",
    "    hub_dir = torch.hub.get_dir()\n",
    "    if onnx:\n",
    "        url = 'https://models.silero.ai/vad_models/lang_classifier_95.onnx'\n",
    "    else:\n",
    "        url = 'https://models.silero.ai/vad_models/lang_classifier_95.jit'\n",
    "    model = Validator(url)\n",
    "\n",
    "    with open(f'{hub_dir}/snakers4_silero-vad_master/files/lang_dict_95.json', 'r') as f:\n",
    "        lang_dict = json.load(f)\n",
    "\n",
    "    with open(f'{hub_dir}/snakers4_silero-vad_master/files/lang_group_dict_95.json', 'r') as f:\n",
    "        lang_group_dict = json.load(f)\n",
    "\n",
    "    utils = (get_language_and_group, read_audio)\n",
    "\n",
    "    return model, lang_dict, lang_group_dict, utils"
   ]
  },
  {
   "cell_type": "code",
   "execution_count": 34,
   "id": "3fdd62e1",
   "metadata": {},
   "outputs": [
    {
     "data": {
      "application/vnd.jupyter.widget-view+json": {
       "model_id": "dec3a21520fb4fdbbe3bce246f7f3b30",
       "version_major": 2,
       "version_minor": 0
      },
      "text/plain": [
       "  0%|          | 0.00/12.8M [00:01<?, ?B/s]"
      ]
     },
     "metadata": {},
     "output_type": "display_data"
    },
    {
     "data": {
      "text/plain": [
       "(<utils_vad.Validator at 0x7f1bf1972220>,\n",
       " {'59': 'mg, Malagasy',\n",
       "  '76': 'tk, Turkmen',\n",
       "  '20': 'lb, Luxembourgish, Letzeburgesch',\n",
       "  '62': 'or, Oriya',\n",
       "  '30': 'en, English',\n",
       "  '26': 'oc, Occitan',\n",
       "  '69': 'no, Norwegian',\n",
       "  '77': 'sr, Serbian',\n",
       "  '90': 'bs, Bosnian',\n",
       "  '71': 'el, Greek, Modern (1453–)',\n",
       "  '15': 'az, Azerbaijani',\n",
       "  '12': 'lo, Lao',\n",
       "  '85': 'zh-HK, Chinese',\n",
       "  '79': 'cs, Czech',\n",
       "  '43': 'sv, Swedish',\n",
       "  '37': 'mn, Mongolian',\n",
       "  '32': 'fi, Finnish',\n",
       "  '51': 'tg, Tajik',\n",
       "  '46': 'am, Amharic',\n",
       "  '17': 'nn, Norwegian Nynorsk',\n",
       "  '40': 'ja, Japanese',\n",
       "  '8': 'it, Italian',\n",
       "  '21': 'ha, Hausa',\n",
       "  '11': 'as, Assamese',\n",
       "  '29': 'fa, Persian',\n",
       "  '82': 'bn, Bengali',\n",
       "  '54': 'mk, Macedonian',\n",
       "  '31': 'sw, Swahili',\n",
       "  '45': 'vi, Vietnamese',\n",
       "  '41': 'ur, Urdu',\n",
       "  '74': 'bo, Tibetan',\n",
       "  '4': 'hi, Hindi',\n",
       "  '86': 'mr, Marathi',\n",
       "  '3': 'fy-NL, Western Frisian',\n",
       "  '65': 'sk, Slovak',\n",
       "  '2': 'ln, Lingala',\n",
       "  '92': 'gl, Galician',\n",
       "  '53': 'sn, Shona',\n",
       "  '87': 'su, Sundanese',\n",
       "  '35': 'tt, Tatar',\n",
       "  '93': 'kn, Kannada',\n",
       "  '6': 'yo, Yoruba',\n",
       "  '27': 'ps, Pashto, Pushto',\n",
       "  '34': 'hy, Armenian',\n",
       "  '25': 'pa-IN, Punjabi, Panjabi',\n",
       "  '23': 'nl, Dutch, Flemish',\n",
       "  '48': 'th, Thai',\n",
       "  '73': 'mt, Maltese',\n",
       "  '55': 'ar, Arabic',\n",
       "  '89': 'ba, Bashkir',\n",
       "  '78': 'bg, Bulgarian',\n",
       "  '42': 'yi, Yiddish',\n",
       "  '5': 'ru, Russian',\n",
       "  '84': 'sv-SE, Swedish',\n",
       "  '80': 'tr, Turkish',\n",
       "  '33': 'sq, Albanian',\n",
       "  '38': 'kk, Kazakh',\n",
       "  '50': 'pl, Polish',\n",
       "  '9': 'hr, Croatian',\n",
       "  '66': 'ky, Kirghiz, Kyrgyz',\n",
       "  '49': 'hu, Hungarian',\n",
       "  '10': 'si, Sinhala, Sinhalese',\n",
       "  '56': 'la, Latin',\n",
       "  '75': 'de, German',\n",
       "  '14': 'ko, Korean',\n",
       "  '22': 'id, Indonesian',\n",
       "  '47': 'sl, Slovenian',\n",
       "  '57': 'be, Belarusian',\n",
       "  '36': 'ta, Tamil',\n",
       "  '7': 'da, Danish',\n",
       "  '91': 'sd, Sindhi',\n",
       "  '28': 'et, Estonian',\n",
       "  '63': 'pt, Portuguese',\n",
       "  '60': 'ne, Nepali',\n",
       "  '94': 'zh-TW, Chinese',\n",
       "  '18': 'zh-CN, Chinese',\n",
       "  '88': 'rw, Kinyarwanda',\n",
       "  '19': 'es, Spanish, Castilian',\n",
       "  '39': 'ht, Haitian, Haitian Creole',\n",
       "  '64': 'tl, Tagalog',\n",
       "  '83': 'ms, Malay',\n",
       "  '70': 'ro, Romanian, Moldavian, Moldovan',\n",
       "  '68': 'pa, Punjabi, Panjabi',\n",
       "  '52': 'uz, Uzbek',\n",
       "  '58': 'km, Central Khmer',\n",
       "  '67': 'my, Burmese',\n",
       "  '0': 'fr, French',\n",
       "  '24': 'af, Afrikaans',\n",
       "  '16': 'gu, Gujarati',\n",
       "  '81': 'so, Somali',\n",
       "  '13': 'uk, Ukrainian',\n",
       "  '44': 'ca, Catalan, Valencian',\n",
       "  '72': 'ml, Malayalam',\n",
       "  '61': 'te, Telugu',\n",
       "  '1': 'zh, Chinese'},\n",
       " {'0': ['Afrikaans', 'Dutch, Flemish', 'Western Frisian'],\n",
       "  '1': ['Turkish', 'Azerbaijani'],\n",
       "  '2': ['Russian', 'Slovak', 'Ukrainian', 'Czech', 'Polish', 'Belarusian'],\n",
       "  '3': ['Bulgarian',\n",
       "   'Macedonian',\n",
       "   'Serbian',\n",
       "   'Croatian',\n",
       "   'Bosnian',\n",
       "   'Slovenian'],\n",
       "  '4': ['Norwegian Nynorsk', 'Swedish', 'Danish', 'Norwegian'],\n",
       "  '5': ['English'],\n",
       "  '6': ['Finnish', 'Estonian'],\n",
       "  '7': ['Yiddish', 'Luxembourgish, Letzeburgesch', 'German'],\n",
       "  '8': ['Spanish',\n",
       "   'Occitan',\n",
       "   'Portuguese',\n",
       "   'Catalan, Valencian',\n",
       "   'Galician',\n",
       "   'Spanish, Castilian',\n",
       "   'Italian'],\n",
       "  '9': ['Maltese', 'Arabic'],\n",
       "  '10': ['Marathi'],\n",
       "  '11': ['Hindi', 'Urdu'],\n",
       "  '12': ['Lao', 'Thai'],\n",
       "  '13': ['Malay', 'Indonesian'],\n",
       "  '14': ['Romanian, Moldavian, Moldovan'],\n",
       "  '15': ['Tagalog'],\n",
       "  '16': ['Tajik', 'Persian'],\n",
       "  '17': ['Kazakh', 'Uzbek', 'Kirghiz, Kyrgyz'],\n",
       "  '18': ['Kinyarwanda'],\n",
       "  '19': ['Tatar', 'Bashkir'],\n",
       "  '20': ['French'],\n",
       "  '21': ['Chinese'],\n",
       "  '22': ['Lingala'],\n",
       "  '23': ['Yoruba'],\n",
       "  '24': ['Sinhala, Sinhalese'],\n",
       "  '25': ['Assamese'],\n",
       "  '26': ['Korean'],\n",
       "  '27': ['Gujarati'],\n",
       "  '28': ['Hausa'],\n",
       "  '29': ['Punjabi, Panjabi'],\n",
       "  '30': ['Pashto, Pushto'],\n",
       "  '31': ['Swahili'],\n",
       "  '32': ['Albanian'],\n",
       "  '33': ['Armenian'],\n",
       "  '34': ['Mongolian'],\n",
       "  '35': ['Tamil'],\n",
       "  '36': ['Haitian, Haitian Creole'],\n",
       "  '37': ['Japanese'],\n",
       "  '38': ['Vietnamese'],\n",
       "  '39': ['Amharic'],\n",
       "  '40': ['Hungarian'],\n",
       "  '41': ['Shona'],\n",
       "  '42': ['Latin'],\n",
       "  '43': ['Central Khmer'],\n",
       "  '44': ['Malagasy'],\n",
       "  '45': ['Nepali'],\n",
       "  '46': ['Telugu'],\n",
       "  '47': ['Oriya'],\n",
       "  '48': ['Burmese'],\n",
       "  '49': ['Greek, Modern (1453–)'],\n",
       "  '50': ['Malayalam'],\n",
       "  '51': ['Tibetan'],\n",
       "  '52': ['Turkmen'],\n",
       "  '53': ['Somali'],\n",
       "  '54': ['Bengali'],\n",
       "  '55': ['Sundanese'],\n",
       "  '56': ['Sindhi'],\n",
       "  '57': ['Kannada']},\n",
       " (<function utils_vad.get_language_and_group(wav: torch.Tensor, model, lang_dict: dict, lang_group_dict: dict, top_n=1)>,\n",
       "  <function utils_vad.read_audio(path: str, sampling_rate: int = 16000)>))"
      ]
     },
     "execution_count": 34,
     "metadata": {},
     "output_type": "execute_result"
    }
   ],
   "source": [
    "silero_lang_detector_95(onnx=False)"
   ]
  },
  {
   "cell_type": "code",
   "execution_count": 41,
   "id": "7e88c56f",
   "metadata": {},
   "outputs": [
    {
     "name": "stdout",
     "output_type": "stream",
     "text": [
      "de\n"
     ]
    }
   ],
   "source": [
    "SAMPLING_RATE = 16000\n",
    "wav = read_audio('/home/vishnu/Downloads/Hindi_F_Deepika.mp3', sampling_rate=SAMPLING_RATE)\n",
    "lang = get_language(wav, model)\n",
    "print(lang)"
   ]
  },
  {
   "cell_type": "code",
   "execution_count": null,
   "id": "c9705241",
   "metadata": {},
   "outputs": [],
   "source": []
  }
 ],
 "metadata": {
  "kernelspec": {
   "display_name": "Python 3",
   "language": "python",
   "name": "python3"
  },
  "language_info": {
   "codemirror_mode": {
    "name": "ipython",
    "version": 3
   },
   "file_extension": ".py",
   "mimetype": "text/x-python",
   "name": "python",
   "nbconvert_exporter": "python",
   "pygments_lexer": "ipython3",
   "version": "3.8.10"
  }
 },
 "nbformat": 4,
 "nbformat_minor": 5
}
